{
 "cells": [
  {
   "cell_type": "markdown",
   "id": "64dd2dd3-7414-4292-ae63-20358c3b3490",
   "metadata": {},
   "source": [
    "### Using Features to Detect Diabetes\n",
    "**Goal:** The goal of this project is to identify more effective ways for detecting people who are at risk for diabetes. Several classification models (Logistic Regression, Decision Trees, Random Trees, KNearestNeighbor, SVC) will be trained to detect diabetes based on the provided details/features. From there, we can evaluate which of the provided features have the most importance and can enhance the accuracy of the model to predict risk of diabetes.\n",
    "\n",
    "**Data Problem:** The data task is to train and tune different classification models that group individuals into non-diabetic or diabetic based on their features.\n",
    "\n",
    "**Expected Results:** The expected results of this project is a quality model with high accuracy that can be used to predict which features can help determine whether an individual is at risk for diabetes\n",
    "\n",
    "\n",
    "**Data**\n",
    "\n",
    "The data is sourced from Kaggle.\n",
    "\n",
    "Link: https://www.kaggle.com/datasets/iammustafatz/diabetes-prediction-dataset "
   ]
  },
  {
   "cell_type": "markdown",
   "id": "98e05678-8065-4e31-9fea-1abe777eb399",
   "metadata": {},
   "source": [
    "#### Import and Setup"
   ]
  },
  {
   "cell_type": "code",
   "execution_count": 22,
   "id": "9e10b2c8-6a05-4106-9fd2-bf26fcbf979a",
   "metadata": {},
   "outputs": [],
   "source": [
    "import pandas as pd\n",
    "import time\n",
    "from sklearn.model_selection import train_test_split, GridSearchCV\n",
    "from sklearn.svm import SVC\n",
    "from sklearn.linear_model import LogisticRegression\n",
    "from sklearn.neighbors import KNeighborsClassifier\n",
    "from sklearn.preprocessing import StandardScaler\n",
    "from sklearn.pipeline import Pipeline\n",
    "import matplotlib.pyplot as plt\n",
    "import seaborn as sns\n",
    "from sklearn.tree import DecisionTreeClassifier\n",
    "from sklearn.metrics import accuracy_score, recall_score, precision_score\n",
    "from sklearn.ensemble import RandomForestClassifier"
   ]
  },
  {
   "cell_type": "markdown",
   "id": "6158bb63-71a8-49dd-9fef-fe4dad1b4664",
   "metadata": {},
   "source": [
    "#### Data Overview \n",
    "\n",
    "- 100000 samples/rows \n",
    "- 9 columns: \n",
    "       1. gender: whether the person is male, female, or identifies as other\n",
    "       2. age: how old the individual is; diabetes tends to be diagnosed in older adults\n",
    "       3. hypertension: a medical condition that the entry either doesn't have (0) or has (1)\n",
    "       4. heart_disease: history of whether the entry has heart disease (1) or not (0). \n",
    "       5. smoking_history: what kindof history the entry has with smoking. Values are ['never', 'No Info', 'current', 'former', 'ever', 'not current'].\n",
    "       6. bmi: body mass index that's calculated based on height and weight. Higher values typically indicate higher chance of diabetes.\n",
    "       7. HbA1c_level: Hemoglobin A1c levels, which are an individual's blood sugar levels.\n",
    "       8. blood_glucose_level: the amount of glucose in a person's bloodstream.\n",
    "       9. diabetes: whether the individual has diabetes or not; 0 means No, 1 means Yes."
   ]
  },
  {
   "cell_type": "code",
   "execution_count": 23,
   "id": "0ca04882-77c6-4181-868b-a686571e71d5",
   "metadata": {},
   "outputs": [],
   "source": [
    "df = pd.read_csv('diabetes_prediction_dataset.csv')"
   ]
  },
  {
   "cell_type": "code",
   "execution_count": 3,
   "id": "62ba96aa-20e7-44e7-be2f-644c285e7d92",
   "metadata": {},
   "outputs": [
    {
     "name": "stdout",
     "output_type": "stream",
     "text": [
      "(100000, 9)\n"
     ]
    },
    {
     "data": {
      "text/html": [
       "<div>\n",
       "<style scoped>\n",
       "    .dataframe tbody tr th:only-of-type {\n",
       "        vertical-align: middle;\n",
       "    }\n",
       "\n",
       "    .dataframe tbody tr th {\n",
       "        vertical-align: top;\n",
       "    }\n",
       "\n",
       "    .dataframe thead th {\n",
       "        text-align: right;\n",
       "    }\n",
       "</style>\n",
       "<table border=\"1\" class=\"dataframe\">\n",
       "  <thead>\n",
       "    <tr style=\"text-align: right;\">\n",
       "      <th></th>\n",
       "      <th>gender</th>\n",
       "      <th>age</th>\n",
       "      <th>hypertension</th>\n",
       "      <th>heart_disease</th>\n",
       "      <th>smoking_history</th>\n",
       "      <th>bmi</th>\n",
       "      <th>HbA1c_level</th>\n",
       "      <th>blood_glucose_level</th>\n",
       "      <th>diabetes</th>\n",
       "    </tr>\n",
       "  </thead>\n",
       "  <tbody>\n",
       "    <tr>\n",
       "      <th>0</th>\n",
       "      <td>Female</td>\n",
       "      <td>80.0</td>\n",
       "      <td>0</td>\n",
       "      <td>1</td>\n",
       "      <td>never</td>\n",
       "      <td>25.19</td>\n",
       "      <td>6.6</td>\n",
       "      <td>140</td>\n",
       "      <td>0</td>\n",
       "    </tr>\n",
       "    <tr>\n",
       "      <th>1</th>\n",
       "      <td>Female</td>\n",
       "      <td>54.0</td>\n",
       "      <td>0</td>\n",
       "      <td>0</td>\n",
       "      <td>No Info</td>\n",
       "      <td>27.32</td>\n",
       "      <td>6.6</td>\n",
       "      <td>80</td>\n",
       "      <td>0</td>\n",
       "    </tr>\n",
       "    <tr>\n",
       "      <th>2</th>\n",
       "      <td>Male</td>\n",
       "      <td>28.0</td>\n",
       "      <td>0</td>\n",
       "      <td>0</td>\n",
       "      <td>never</td>\n",
       "      <td>27.32</td>\n",
       "      <td>5.7</td>\n",
       "      <td>158</td>\n",
       "      <td>0</td>\n",
       "    </tr>\n",
       "    <tr>\n",
       "      <th>3</th>\n",
       "      <td>Female</td>\n",
       "      <td>36.0</td>\n",
       "      <td>0</td>\n",
       "      <td>0</td>\n",
       "      <td>current</td>\n",
       "      <td>23.45</td>\n",
       "      <td>5.0</td>\n",
       "      <td>155</td>\n",
       "      <td>0</td>\n",
       "    </tr>\n",
       "    <tr>\n",
       "      <th>4</th>\n",
       "      <td>Male</td>\n",
       "      <td>76.0</td>\n",
       "      <td>1</td>\n",
       "      <td>1</td>\n",
       "      <td>current</td>\n",
       "      <td>20.14</td>\n",
       "      <td>4.8</td>\n",
       "      <td>155</td>\n",
       "      <td>0</td>\n",
       "    </tr>\n",
       "  </tbody>\n",
       "</table>\n",
       "</div>"
      ],
      "text/plain": [
       "   gender   age  hypertension  heart_disease smoking_history    bmi  \\\n",
       "0  Female  80.0             0              1           never  25.19   \n",
       "1  Female  54.0             0              0         No Info  27.32   \n",
       "2    Male  28.0             0              0           never  27.32   \n",
       "3  Female  36.0             0              0         current  23.45   \n",
       "4    Male  76.0             1              1         current  20.14   \n",
       "\n",
       "   HbA1c_level  blood_glucose_level  diabetes  \n",
       "0          6.6                  140         0  \n",
       "1          6.6                   80         0  \n",
       "2          5.7                  158         0  \n",
       "3          5.0                  155         0  \n",
       "4          4.8                  155         0  "
      ]
     },
     "execution_count": 3,
     "metadata": {},
     "output_type": "execute_result"
    }
   ],
   "source": [
    "print(df.shape)\n",
    "df.head()"
   ]
  },
  {
   "cell_type": "markdown",
   "id": "1567ec03-e55e-41b3-9420-528d61327f89",
   "metadata": {},
   "source": [
    "#### Data Analysis"
   ]
  },
  {
   "cell_type": "markdown",
   "id": "c07cb0f8-ef1e-439e-b247-3121ca519703",
   "metadata": {},
   "source": [
    "**Data Distribution**\n",
    "\n",
    "The data is distributed with about 90% of the entries not having diabetes and about 10% of the entries having diabetes. Because of the difference in entries as well as the importance of predicting true positives, the recall metric seems most suitable for evaluating the models."
   ]
  },
  {
   "cell_type": "code",
   "execution_count": 6,
   "id": "69429ba7-1a26-44b5-b749-e4319add2d63",
   "metadata": {},
   "outputs": [
    {
     "data": {
      "image/png": "[encoded data removed]",
      "text/plain": [
       "<Figure size 500x500 with 1 Axes>"
      ]
     },
     "metadata": {},
     "output_type": "display_data"
    }
   ],
   "source": [
    "#checking the distribution of data based on non-diabetic vs. diabetic\n",
    "fig = sns.catplot(x = 'diabetes', kind = 'count', data = df)\n",
    "fig.fig.suptitle(\"Non-Diabetic vs. Diabetic\")\n",
    "for fig in fig.axes.flat:\n",
    "    fig.bar_label(fig.containers[0])"
   ]
  },
  {
   "cell_type": "markdown",
   "id": "63ba29e9-bcad-444f-8807-3271ac727307",
   "metadata": {},
   "source": [
    "**Exploratory Data Analysis**"
   ]
  },
  {
   "cell_type": "code",
   "execution_count": 3,
   "id": "3c9471ce-159d-4e9a-9745-0032f17dbf2c",
   "metadata": {},
   "outputs": [
    {
     "name": "stdout",
     "output_type": "stream",
     "text": [
      "<class 'pandas.core.frame.DataFrame'>\n",
      "RangeIndex: 100000 entries, 0 to 99999\n",
      "Data columns (total 9 columns):\n",
      " #   Column               Non-Null Count   Dtype  \n",
      "---  ------               --------------   -----  \n",
      " 0   gender               100000 non-null  object \n",
      " 1   age                  100000 non-null  float64\n",
      " 2   hypertension         100000 non-null  int64  \n",
      " 3   heart_disease        100000 non-null  int64  \n",
      " 4   smoking_history      100000 non-null  object \n",
      " 5   bmi                  100000 non-null  float64\n",
      " 6   HbA1c_level          100000 non-null  float64\n",
      " 7   blood_glucose_level  100000 non-null  int64  \n",
      " 8   diabetes             100000 non-null  int64  \n",
      "dtypes: float64(3), int64(4), object(2)\n",
      "memory usage: 6.9+ MB\n"
     ]
    }
   ],
   "source": [
    "df.info()"
   ]
  },
  {
   "cell_type": "code",
   "execution_count": 4,
   "id": "507110b2-085b-4d44-9549-a1c073f0c010",
   "metadata": {},
   "outputs": [
    {
     "data": {
      "text/plain": [
       "gender                 0\n",
       "age                    0\n",
       "hypertension           0\n",
       "heart_disease          0\n",
       "smoking_history        0\n",
       "bmi                    0\n",
       "HbA1c_level            0\n",
       "blood_glucose_level    0\n",
       "diabetes               0\n",
       "dtype: int64"
      ]
     },
     "execution_count": 4,
     "metadata": {},
     "output_type": "execute_result"
    }
   ],
   "source": [
    "df.isna().sum()"
   ]
  },
  {
   "cell_type": "markdown",
   "id": "36247ac7-8950-4454-a7a3-e70bb746ccda",
   "metadata": {},
   "source": [
    "**Gender Distribution**\n",
    "\n",
    "About 58.552% of the patients represented in the dataset identify as male, 41.43% identify as female, and 0.18% identify as 'other'."
   ]
  },
  {
   "cell_type": "code",
   "execution_count": 8,
   "id": "c7cf4dd1-2f5e-4286-a10d-4b5312f9201f",
   "metadata": {},
   "outputs": [
    {
     "data": {
      "image/png": "[encoded data removed]",
      "text/plain": [
       "<Figure size 500x500 with 1 Axes>"
      ]
     },
     "metadata": {},
     "output_type": "display_data"
    }
   ],
   "source": [
    "#checking the distribution of data based on gender\n",
    "fig = sns.catplot(x = 'gender', kind = 'count', data = df)\n",
    "fig.fig.suptitle(\"Gender\")\n",
    "for fig in fig.axes.flat:\n",
    "    fig.bar_label(fig.containers[0])"
   ]
  },
  {
   "cell_type": "markdown",
   "id": "1c1c3284-2980-41a7-b586-51d7a782832d",
   "metadata": {},
   "source": [
    "**Age Distribution**\n",
    "\n",
    "With a dataset containing the information of 100,000 patients, the average age was about 41.89 years old, the youngest age was 0.08 years old, and the oldest patient was 80 years old.\n",
    "\n",
    "One thing to note was that individuals >= 2 years old sometimes had decimals for their age. I initially considered reformatting these values to whole numbers, but decided to keep them as they represent the most accurate representation of the pateints' ages."
   ]
  },
  {
   "cell_type": "code",
   "execution_count": 6,
   "id": "32aa0746-4943-4e6a-a144-07a4b3db409b",
   "metadata": {},
   "outputs": [
    {
     "name": "stdout",
     "output_type": "stream",
     "text": [
      "Average Patient Age:  41.885856\n",
      "Youngest Patient Age:  0.08\n",
      "Oldest Patient Age:  80.0\n"
     ]
    }
   ],
   "source": [
    "print('Average Patient Age: ', df['age'].mean())\n",
    "print('Youngest Patient Age: ', df['age'].min())\n",
    "print('Oldest Patient Age: ', df['age'].max())"
   ]
  },
  {
   "cell_type": "markdown",
   "id": "368ae02f-59b7-473f-884e-c67c9f4dbf14",
   "metadata": {},
   "source": [
    "**Hypertension Distribution**"
   ]
  },
  {
   "cell_type": "code",
   "execution_count": 10,
   "id": "5627e153-0a2e-49b3-84f1-aa0a9fe1783b",
   "metadata": {},
   "outputs": [
    {
     "data": {
      "image/png": "[encoded data removed]",
      "text/plain": [
       "<Figure size 500x500 with 1 Axes>"
      ]
     },
     "metadata": {},
     "output_type": "display_data"
    }
   ],
   "source": [
    "#checking the distribution of data based on no hypertension vs. hypertension\n",
    "fig = sns.catplot(x = 'hypertension', kind = 'count', data = df)\n",
    "fig.fig.suptitle(\"Non-Hypertension vs. Hypertension\")\n",
    "for fig in fig.axes.flat:\n",
    "    fig.bar_label(fig.containers[0])"
   ]
  },
  {
   "cell_type": "markdown",
   "id": "cb8f8ed6-b28e-42e6-93c4-23817ebe30d5",
   "metadata": {},
   "source": [
    "**Heart Disease History Distribution**\n",
    "\n",
    "The distribution of heart disease among the dataset appear to be about 96.058% of the patients don't have a history of heart disease while 3.942% of the patients do have a history of heart disease"
   ]
  },
  {
   "cell_type": "code",
   "execution_count": 11,
   "id": "1d7fd4fd-7d4a-462c-891d-8b0fddb33352",
   "metadata": {},
   "outputs": [
    {
     "data": {
      "image/png": "[encoded data removed]",
      "text/plain": [
       "<Figure size 500x500 with 1 Axes>"
      ]
     },
     "metadata": {},
     "output_type": "display_data"
    }
   ],
   "source": [
    "#checking the distribution of data based on no heart disease vs. heart disease\n",
    "fig = sns.catplot(x = 'heart_disease', kind = 'count', data = df)\n",
    "fig.fig.suptitle(\"No Heart Disease vs. Heart Disease\")\n",
    "for fig in fig.axes.flat:\n",
    "    fig.bar_label(fig.containers[0])"
   ]
  },
  {
   "cell_type": "markdown",
   "id": "7c0338a9-8dae-4fda-abfc-4fae4a65000f",
   "metadata": {},
   "source": [
    "**Smoking History Distribution**"
   ]
  },
  {
   "cell_type": "code",
   "execution_count": 12,
   "id": "211ee71f-e3d8-4bfe-962c-ba53ca5b1f7d",
   "metadata": {},
   "outputs": [
    {
     "data": {
      "image/png": "[encoded data removed]",
      "text/plain": [
       "<Figure size 500x500 with 1 Axes>"
      ]
     },
     "metadata": {},
     "output_type": "display_data"
    }
   ],
   "source": [
    "#checking the distribution of data based on smoking history\n",
    "fig = sns.catplot(x = 'smoking_history', kind = 'count', data = df)\n",
    "fig.fig.suptitle(\"Distribution of Smoking History\")\n",
    "for fig in fig.axes.flat:\n",
    "    fig.bar_label(fig.containers[0])"
   ]
  },
  {
   "cell_type": "markdown",
   "id": "522ca8bc-c43c-447b-bf7f-ad33bc5cad61",
   "metadata": {},
   "source": [
    "**BMI Analysis**\n",
    "\n",
    "After analyzing the bmi levels of the patients in the dataset, the average bmi is 27.32, lowest bmi is 10.01, and highest bmi is 95.69. \n",
    "\n",
    "To better understand these values, the range (BMI 18.5–24.9) usually indicates little to no risk of diabetes, the range (BMI 25–29.9) is considered at risk of diabetes, and the range (BMI ≥ 30) usually indicates a very high risk or already has diabetes. "
   ]
  },
  {
   "cell_type": "code",
   "execution_count": 13,
   "id": "4063d03d-4b9f-435a-8768-2697fa60ec11",
   "metadata": {},
   "outputs": [
    {
     "name": "stdout",
     "output_type": "stream",
     "text": [
      "Average BMI:  27.3207671\n",
      "Lowest BMI:  10.01\n",
      "Highest BMI:  95.69\n"
     ]
    }
   ],
   "source": [
    "print('Average BMI: ', df['bmi'].mean())\n",
    "print('Lowest BMI: ', df['bmi'].min())\n",
    "print('Highest BMI: ', df['bmi'].max())"
   ]
  },
  {
   "cell_type": "markdown",
   "id": "e858594a-c79e-4412-ac38-e207429735a6",
   "metadata": {},
   "source": [
    "**HbA1c Level Analysis**\n",
    "\n",
    "After analyzing the HbA1c levels of the patients in the dataset, the average is about 5.53, the lowest is 3.5, and the highest is 9.0.\n",
    "\n",
    "To provide a better understanding of these values, an HbA1c level < 5.7% usually means no diabetes, an HbA1c level within the range (5.7% - 6.4%) usually means at risk of diabetes, and an HbA1c level ≥ 6.5% usually means the individual has diabetes."
   ]
  },
  {
   "cell_type": "code",
   "execution_count": 14,
   "id": "88ac29aa-bf5c-4cc4-b67f-830d3296dcbd",
   "metadata": {},
   "outputs": [
    {
     "name": "stdout",
     "output_type": "stream",
     "text": [
      "Average HbA1c Level:  5.527507\n",
      "Lowest HbA1c Level:  3.5\n",
      "Highest HbA1c Level:  9.0\n"
     ]
    }
   ],
   "source": [
    "print('Average HbA1c Level: ', df['HbA1c_level'].mean())\n",
    "print('Lowest HbA1c Level: ', df['HbA1c_level'].min())\n",
    "print('Highest HbA1c Level: ', df['HbA1c_level'].max())"
   ]
  },
  {
   "cell_type": "markdown",
   "id": "663d6f57-d208-46dc-b7e7-c036262fd77d",
   "metadata": {},
   "source": [
    "**Blood Glucose Level Analysis**\n",
    "\n",
    "Blood Glucose is measured in mg/dL. The average glucose level was 138.06, the lowest was 80, and the highest was 300. \n",
    "\n",
    "To provide a better understanding of these values, a normal glucose level is ['Fasting': 70-99, 'Post-Meal': < 140], a pre-diabetic glucose level is: ['Fasting': 100-125, 'Post-Meal': 140-199], and a diabetic glucose level is ['Fasting': > 126, 'Post-Meal': > 200]."
   ]
  },
  {
   "cell_type": "code",
   "execution_count": 15,
   "id": "629be8e3-d164-4a00-af38-7dc60e619329",
   "metadata": {},
   "outputs": [
    {
     "name": "stdout",
     "output_type": "stream",
     "text": [
      "Average Blood Glucose Level:  138.05806\n",
      "Lowest Blood Glucose Level:  80\n",
      "Highest Blood Glucose Level:  300\n"
     ]
    }
   ],
   "source": [
    "print('Average Blood Glucose Level: ', df['blood_glucose_level'].mean())\n",
    "print('Lowest Blood Glucose Level: ', df['blood_glucose_level'].min())\n",
    "print('Highest Blood Glucose Level: ', df['blood_glucose_level'].max())"
   ]
  },
  {
   "cell_type": "markdown",
   "id": "a1a9b4d9-02b9-4cc8-94ab-71c46af19910",
   "metadata": {},
   "source": [
    "#### Data Setup\n",
    "\n",
    "For this step, we are trying to convert all the values into numerical values. The only two categories we need to worry about are 'gender' and 'smoking_history'. This can be accomplished using the get_dummies() function, where the new columns can be placed into a temporary variable while added into the main dataset while removing the original 'gender' and 'smoking_history' columns."
   ]
  },
  {
   "cell_type": "code",
   "execution_count": 24,
   "id": "cc4a63ee-25ee-404c-a945-5e4059cc9024",
   "metadata": {},
   "outputs": [
    {
     "data": {
      "text/html": [
       "<div>\n",
       "<style scoped>\n",
       "    .dataframe tbody tr th:only-of-type {\n",
       "        vertical-align: middle;\n",
       "    }\n",
       "\n",
       "    .dataframe tbody tr th {\n",
       "        vertical-align: top;\n",
       "    }\n",
       "\n",
       "    .dataframe thead th {\n",
       "        text-align: right;\n",
       "    }\n",
       "</style>\n",
       "<table border=\"1\" class=\"dataframe\">\n",
       "  <thead>\n",
       "    <tr style=\"text-align: right;\">\n",
       "      <th></th>\n",
       "      <th>age</th>\n",
       "      <th>hypertension</th>\n",
       "      <th>heart_disease</th>\n",
       "      <th>bmi</th>\n",
       "      <th>HbA1c_level</th>\n",
       "      <th>blood_glucose_level</th>\n",
       "      <th>diabetes</th>\n",
       "      <th>gender_Female</th>\n",
       "      <th>gender_Male</th>\n",
       "      <th>gender_Other</th>\n",
       "      <th>smoking_history_No Info</th>\n",
       "      <th>smoking_history_current</th>\n",
       "      <th>smoking_history_ever</th>\n",
       "      <th>smoking_history_former</th>\n",
       "      <th>smoking_history_never</th>\n",
       "      <th>smoking_history_not current</th>\n",
       "    </tr>\n",
       "  </thead>\n",
       "  <tbody>\n",
       "    <tr>\n",
       "      <th>0</th>\n",
       "      <td>80.0</td>\n",
       "      <td>0</td>\n",
       "      <td>1</td>\n",
       "      <td>25.19</td>\n",
       "      <td>6.6</td>\n",
       "      <td>140</td>\n",
       "      <td>0</td>\n",
       "      <td>1</td>\n",
       "      <td>0</td>\n",
       "      <td>0</td>\n",
       "      <td>0</td>\n",
       "      <td>0</td>\n",
       "      <td>0</td>\n",
       "      <td>0</td>\n",
       "      <td>1</td>\n",
       "      <td>0</td>\n",
       "    </tr>\n",
       "    <tr>\n",
       "      <th>1</th>\n",
       "      <td>54.0</td>\n",
       "      <td>0</td>\n",
       "      <td>0</td>\n",
       "      <td>27.32</td>\n",
       "      <td>6.6</td>\n",
       "      <td>80</td>\n",
       "      <td>0</td>\n",
       "      <td>1</td>\n",
       "      <td>0</td>\n",
       "      <td>0</td>\n",
       "      <td>1</td>\n",
       "      <td>0</td>\n",
       "      <td>0</td>\n",
       "      <td>0</td>\n",
       "      <td>0</td>\n",
       "      <td>0</td>\n",
       "    </tr>\n",
       "    <tr>\n",
       "      <th>2</th>\n",
       "      <td>28.0</td>\n",
       "      <td>0</td>\n",
       "      <td>0</td>\n",
       "      <td>27.32</td>\n",
       "      <td>5.7</td>\n",
       "      <td>158</td>\n",
       "      <td>0</td>\n",
       "      <td>0</td>\n",
       "      <td>1</td>\n",
       "      <td>0</td>\n",
       "      <td>0</td>\n",
       "      <td>0</td>\n",
       "      <td>0</td>\n",
       "      <td>0</td>\n",
       "      <td>1</td>\n",
       "      <td>0</td>\n",
       "    </tr>\n",
       "    <tr>\n",
       "      <th>3</th>\n",
       "      <td>36.0</td>\n",
       "      <td>0</td>\n",
       "      <td>0</td>\n",
       "      <td>23.45</td>\n",
       "      <td>5.0</td>\n",
       "      <td>155</td>\n",
       "      <td>0</td>\n",
       "      <td>1</td>\n",
       "      <td>0</td>\n",
       "      <td>0</td>\n",
       "      <td>0</td>\n",
       "      <td>1</td>\n",
       "      <td>0</td>\n",
       "      <td>0</td>\n",
       "      <td>0</td>\n",
       "      <td>0</td>\n",
       "    </tr>\n",
       "    <tr>\n",
       "      <th>4</th>\n",
       "      <td>76.0</td>\n",
       "      <td>1</td>\n",
       "      <td>1</td>\n",
       "      <td>20.14</td>\n",
       "      <td>4.8</td>\n",
       "      <td>155</td>\n",
       "      <td>0</td>\n",
       "      <td>0</td>\n",
       "      <td>1</td>\n",
       "      <td>0</td>\n",
       "      <td>0</td>\n",
       "      <td>1</td>\n",
       "      <td>0</td>\n",
       "      <td>0</td>\n",
       "      <td>0</td>\n",
       "      <td>0</td>\n",
       "    </tr>\n",
       "  </tbody>\n",
       "</table>\n",
       "</div>"
      ],
      "text/plain": [
       "    age  hypertension  heart_disease    bmi  HbA1c_level  blood_glucose_level  \\\n",
       "0  80.0             0              1  25.19          6.6                  140   \n",
       "1  54.0             0              0  27.32          6.6                   80   \n",
       "2  28.0             0              0  27.32          5.7                  158   \n",
       "3  36.0             0              0  23.45          5.0                  155   \n",
       "4  76.0             1              1  20.14          4.8                  155   \n",
       "\n",
       "   diabetes  gender_Female  gender_Male  gender_Other  \\\n",
       "0         0              1            0             0   \n",
       "1         0              1            0             0   \n",
       "2         0              0            1             0   \n",
       "3         0              1            0             0   \n",
       "4         0              0            1             0   \n",
       "\n",
       "   smoking_history_No Info  smoking_history_current  smoking_history_ever  \\\n",
       "0                        0                        0                     0   \n",
       "1                        1                        0                     0   \n",
       "2                        0                        0                     0   \n",
       "3                        0                        1                     0   \n",
       "4                        0                        1                     0   \n",
       "\n",
       "   smoking_history_former  smoking_history_never  smoking_history_not current  \n",
       "0                       0                      1                            0  \n",
       "1                       0                      0                            0  \n",
       "2                       0                      1                            0  \n",
       "3                       0                      0                            0  \n",
       "4                       0                      0                            0  "
      ]
     },
     "execution_count": 24,
     "metadata": {},
     "output_type": "execute_result"
    }
   ],
   "source": [
    "#taking columns with multiple text values and converting them into columns with numerical values\n",
    "dummies = pd.get_dummies(df[['gender', 'smoking_history']], dtype='int')\n",
    "df = df.join(dummies)\n",
    "df = df.drop(['gender', 'smoking_history'], axis=1)\n",
    "\n",
    "df.head()"
   ]
  },
  {
   "cell_type": "code",
   "execution_count": 20,
   "id": "64968f0e-4b80-4ac6-a237-a66dfdab7610",
   "metadata": {},
   "outputs": [],
   "source": [
    "df.to_csv('new_dataset.csv')"
   ]
  },
  {
   "cell_type": "code",
   "execution_count": 5,
   "id": "fc0fff1e-06af-4749-b764-82bf9c3b8016",
   "metadata": {},
   "outputs": [],
   "source": [
    "#train_test_split\n",
    "X = df.drop(['diabetes'], axis=1)\n",
    "y = df['diabetes']\n",
    "X_train, X_test, y_train, y_test = train_test_split(X, y, test_size=0.2, random_state=42)"
   ]
  },
  {
   "cell_type": "markdown",
   "id": "a32050f6-062b-4b24-829b-d6cb545f3a2f",
   "metadata": {},
   "source": [
    "#### Determining Optimal Hyperparameters\n",
    "\n",
    "Because only one set of train/test sets will be used, Holdout Cross Validation will be implemented. \n",
    "\n",
    "GridSearchCV will be used to to figure out the hyperparameters required for maximum metric values."
   ]
  },
  {
   "cell_type": "markdown",
   "id": "14a5df80-3c8c-4399-9505-b0e24de567b7",
   "metadata": {},
   "source": [
    "**Logistic Regression**\n",
    "\n",
    "A pipeline object is created to standardize the data using StandardScaler and instantiate a Logistic Regression model. \n",
    "GridSearchCV is used to find 3 hyperparameters: the regularization strength (C) with the options being [0.01, 0.1, 1, 10, 100],\n",
    "what solver to use, which could be ['liblinear', 'saga'], and the penalty, with the options being ['l1', 'l2'].\n",
    "The optimal model has a regularization strength of 0.01, the solver 'liblinear', and the 'l1' penalty."
   ]
  },
  {
   "cell_type": "code",
   "execution_count": 6,
   "id": "44183fce-38bb-48f7-a275-29d60bdccbdd",
   "metadata": {},
   "outputs": [
    {
     "name": "stdout",
     "output_type": "stream",
     "text": [
      "Fitting 5 folds for each of 20 candidates, totalling 100 fits\n",
      "Best hyperparameters: {'logistic__C': 0.01, 'logistic__penalty': 'l1', 'logistic__solver': 'liblinear'}\n",
      "Best cross-validation score: 0.9608625\n",
      "Test set score: 0.9591\n"
     ]
    }
   ],
   "source": [
    "#Determinng best parameters for Logistic Regression\n",
    "pipeline = Pipeline([\n",
    "    ('scale', StandardScaler()),\n",
    "    ('logistic', LogisticRegression(max_iter=1000))\n",
    "])\n",
    "\n",
    "# Define the hyperparameter grid\n",
    "param_grid = {\n",
    "    'logistic__C': [0.01, 0.1, 1, 10, 100],  # Regularization strength\n",
    "    'logistic__solver': ['liblinear', 'saga'],  # Solver to use\n",
    "    'logistic__penalty': ['l1', 'l2']  # Type of regularization\n",
    "}\n",
    "\n",
    "# Set up GridSearchCV\n",
    "grid_search = GridSearchCV(pipeline, param_grid, cv=5, scoring='accuracy', verbose=1)\n",
    "\n",
    "# Fit the model to the training data\n",
    "grid_search.fit(X_train, y_train)\n",
    "\n",
    "# Display the best parameters and score\n",
    "print(\"Best hyperparameters:\", grid_search.best_params_)\n",
    "print(\"Best cross-validation score:\", grid_search.best_score_)\n",
    "\n",
    "# Evaluate on the test set\n",
    "test_score = grid_search.score(X_test, y_test)\n",
    "print(\"Test set score:\", test_score)"
   ]
  },
  {
   "cell_type": "markdown",
   "id": "1ed9bdab-bcff-4b9c-86c8-77ef1e535821",
   "metadata": {},
   "source": [
    "**Decision Tree Classifier**\n",
    "\n",
    "A pipeline object is created to standardize the data using StandardScaler and instantiate a Decision Tree Classifier model. \n",
    "GridSearchCV is used to find 4 hyperparameters: the criterion with the options being ['gini', 'entropy'],\n",
    "the max depth with the options being  [None, 1, 2, 3, 4, 5, 6, 7, 8, 9, 10], the minimum samples split with the options being [1, 2, 3, 4, 5, 10],\n",
    "and the minimum samples leaf with the options being [1, 2, 3, 4, 5].\n",
    "The optimal model has the criterion 'gini', max depth of 2, minimum samples leaf of 1, and minimum samples split of 2."
   ]
  },
  {
   "cell_type": "code",
   "execution_count": 7,
   "id": "d7e7af16-d342-4008-99f2-2110643e8734",
   "metadata": {},
   "outputs": [
    {
     "name": "stdout",
     "output_type": "stream",
     "text": [
      "Fitting 5 folds for each of 550 candidates, totalling 2750 fits\n",
      "Best parameters found:  {'classifier__criterion': 'gini', 'classifier__max_depth': 2, 'classifier__min_samples_leaf': 1, 'classifier__min_samples_split': 2}\n",
      "Best cross-validation score: 0.9718\n",
      "Test set score: 0.97215\n"
     ]
    }
   ],
   "source": [
    "#Determinng best parameters for Decision Tree Classifier\n",
    "pipeline = Pipeline([\n",
    "    ('scale', StandardScaler()),\n",
    "    ('classifier', DecisionTreeClassifier())\n",
    "])\n",
    "\n",
    "param_grid = {\n",
    "    'classifier__criterion': ['gini', 'entropy'],\n",
    "    'classifier__max_depth': [None, 1, 2, 3, 4, 5, 6, 7, 8, 9, 10],\n",
    "    'classifier__min_samples_split': [2, 3, 4, 5, 10],\n",
    "    'classifier__min_samples_leaf': [1, 2, 3, 4, 5],\n",
    "}\n",
    "\n",
    "grid_search = GridSearchCV(pipeline, param_grid, cv=5, scoring='accuracy', verbose=1, n_jobs=-1)\n",
    "grid_search.fit(X_train, y_train)\n",
    "print(\"Best parameters found: \", grid_search.best_params_)\n",
    "print(\"Best cross-validation score:\", grid_search.best_score_)\n",
    "\n",
    "# Evaluate on the test set\n",
    "test_score = grid_search.score(X_test, y_test)\n",
    "print(\"Test set score:\", test_score)"
   ]
  },
  {
   "cell_type": "markdown",
   "id": "8d9b3e81-c52f-4849-aed0-7975d48f148f",
   "metadata": {},
   "source": [
    "**Random Forest Classifier**\n",
    "\n",
    "A pipeline object is created to standardize the data using StandardScaler and instantiate a Random Forest Classifier model. \n",
    "GridSearchCV is used to find 5 hyperparameters: the number of estimators with the options being [50, 100, 200],\n",
    "the max depth which could be [None, 10, 20, 30], the minimum samples split with the options being [2, 5, 10], \n",
    "the minimum samples leaf with the options being [1, 2, 4], and the boostrap with the options being [True, False].\n",
    "The optimal model has 200 estimators, a max depth of None, 10 minimum samples split, 4 minimum samples leaf, and bootstrap set to True."
   ]
  },
  {
   "cell_type": "code",
   "execution_count": 8,
   "id": "b19cdae1-1e95-4b40-b7f1-6886b55a9b16",
   "metadata": {},
   "outputs": [
    {
     "name": "stdout",
     "output_type": "stream",
     "text": [
      "Fitting 5 folds for each of 216 candidates, totalling 1080 fits\n",
      "Best Parameters: {'rf__bootstrap': True, 'rf__max_depth': None, 'rf__min_samples_leaf': 4, 'rf__min_samples_split': 10, 'rf__n_estimators': 200}\n",
      "Best Cross-Validation Score: 0.971875\n",
      "Test set score: 0.9724\n"
     ]
    }
   ],
   "source": [
    "#Determinng best parameters for Random Forest Classifier\n",
    "pipeline = Pipeline([\n",
    "    ('scale', StandardScaler()),\n",
    "    ('rf', RandomForestClassifier())\n",
    "])\n",
    "\n",
    "param_grid = {\n",
    "    'rf__n_estimators': [50, 100, 200],\n",
    "    'rf__max_depth': [None, 10, 20, 30],\n",
    "    'rf__min_samples_split': [2, 5, 10],\n",
    "    'rf__min_samples_leaf': [1, 2, 4],\n",
    "    'rf__bootstrap': [True, False]\n",
    "}\n",
    "\n",
    "# Initialize GridSearchCV\n",
    "grid_search = GridSearchCV(pipeline, \n",
    "                           param_grid=param_grid, \n",
    "                           cv=5,  # 5-fold cross-validation\n",
    "                           scoring='accuracy',  # Metric for optimization\n",
    "                           n_jobs=-1,  # Use all available cores\n",
    "                           verbose=2)\n",
    "\n",
    "# Perform grid search\n",
    "grid_search.fit(X_train, y_train)\n",
    "\n",
    "# Best parameters and score\n",
    "print(\"Best Parameters:\", grid_search.best_params_)\n",
    "print(\"Best Cross-Validation Score:\", grid_search.best_score_)\n",
    "\n",
    "# Evaluate on the test set\n",
    "test_score = grid_search.score(X_test, y_test)\n",
    "print(\"Test set score:\", test_score)"
   ]
  },
  {
   "cell_type": "markdown",
   "id": "750aac33-0394-430f-ac88-f87bcdb7251f",
   "metadata": {},
   "source": [
    "**SVC**\n",
    "\n",
    "A pipeline object is created to standardize the data using StandardScaler and instantiate a SVC model. \n",
    "GridSearchCV is used to find 3 hyperparameters: the regularization parameter (C) with the options being [0.1, 1, 10],\n",
    "the kernel type which could be ['linear', 'rbf'], and the kernel coefficient (gamma) which could be ['scale', 'auto', 0.1, 1]\n",
    "The optimal model has a regularization paramter of 10, a kernel type of 'rbf', and a gamma of 0.1."
   ]
  },
  {
   "cell_type": "code",
   "execution_count": 5,
   "id": "f43ee6c2-ad18-47be-b912-1a0b6efb5a5d",
   "metadata": {},
   "outputs": [
    {
     "name": "stdout",
     "output_type": "stream",
     "text": [
      "Fitting 5 folds for each of 24 candidates, totalling 120 fits\n",
      "Best Parameters: {'svm__C': 10, 'svm__gamma': 0.1, 'svm__kernel': 'rbf'}\n",
      "Best Cross-Validation Score: 0.9643999999999998\n",
      "Test set score: 0.96335\n"
     ]
    }
   ],
   "source": [
    "#Determinng best parameters for SVC\n",
    "pipeline = Pipeline([\n",
    "    ('scale', StandardScaler()),\n",
    "    ('svm', SVC())\n",
    "])\n",
    "\n",
    "param_grid = {\n",
    "    'svm__C': [0.1, 1, 10],  # Regularization parameter\n",
    "    'svm__kernel': ['linear', 'rbf'],  # Kernel types\n",
    "    'svm__gamma': ['scale', 'auto', 0.1, 1],  # Kernel coefficient\n",
    "}\n",
    "\n",
    "grid_search = GridSearchCV(pipeline, \n",
    "                           param_grid=param_grid, \n",
    "                           cv=5,  # 5-fold cross-validation\n",
    "                           scoring='accuracy',  # Metric for optimization\n",
    "                           n_jobs=-1,  # Use all available cores\n",
    "                           verbose=2)\n",
    "\n",
    "# Perform grid search\n",
    "grid_search.fit(X_train, y_train)\n",
    "\n",
    "# Best parameters and score\n",
    "print(\"Best Parameters:\", grid_search.best_params_)\n",
    "print(\"Best Cross-Validation Score:\", grid_search.best_score_)\n",
    "\n",
    "# Evaluate on the test set\n",
    "test_score = grid_search.score(X_test, y_test)\n",
    "print(\"Test set score:\", test_score)"
   ]
  },
  {
   "cell_type": "markdown",
   "id": "2041d0a8-b5ab-44d5-860e-40087d9b4e19",
   "metadata": {},
   "source": [
    "**KNearestNeighbor**\n",
    "\n",
    "A pipeline object is created to standardize the data using StandardScaler and instantiate a KNearestNeighbor model. \n",
    "GridSearchCV is used to find 4 hyperparameters: the number of neighbors with could range from [1-20] with an interval of 2,\n",
    "the weight which could be ['uniform', 'distance'], the leaf size with the options being [5, 10, 15], \n",
    "and the value p with the options being [1, 2].\n",
    "The optimal model has 9 neighbors, a weight of 'uniform', a leaf size of 10, and a value of 2 for p."
   ]
  },
  {
   "cell_type": "code",
   "execution_count": 11,
   "id": "647a80a8-fb70-46e9-937d-3f915cc01fce",
   "metadata": {},
   "outputs": [
    {
     "name": "stdout",
     "output_type": "stream",
     "text": [
      "Fitting 5 folds for each of 120 candidates, totalling 600 fits\n",
      "Best Parameters: {'knn__leaf_size': 10, 'knn__n_neighbors': 9, 'knn__p': 2, 'knn__weights': 'uniform'}\n",
      "Best Cross-Validation Score: 0.9611500000000002\n",
      "Test set score: 0.96045\n"
     ]
    }
   ],
   "source": [
    "#Determinng best parameters for KNN\n",
    "pipeline = Pipeline([\n",
    "    ('scale', StandardScaler()),\n",
    "    ('knn', KNeighborsClassifier())\n",
    "])\n",
    "\n",
    "param_grid = {'knn__n_neighbors': list(range(1, 20, 2)),\n",
    "          'knn__weights': ['uniform', 'distance'],\n",
    "          'knn__leaf_size': [5, 10, 15],\n",
    "          'knn__p': [1, 2],\n",
    "}\n",
    "\n",
    "grid_search = GridSearchCV(pipeline, \n",
    "                           param_grid=param_grid, \n",
    "                           cv=5,  # 5-fold cross-validation\n",
    "                           scoring='accuracy',  # Metric for optimization\n",
    "                           n_jobs=-1,  # Use all available cores\n",
    "                           verbose=2)\n",
    "grid_search.fit(X_train, y_train)\n",
    "\n",
    "# Best parameters and score\n",
    "print(\"Best Parameters:\", grid_search.best_params_)\n",
    "print(\"Best Cross-Validation Score:\", grid_search.best_score_)\n",
    "\n",
    "# Evaluate on the test set\n",
    "test_score = grid_search.score(X_test, y_test)\n",
    "print(\"Test set score:\", test_score)"
   ]
  },
  {
   "cell_type": "markdown",
   "id": "29641bfc-ad33-4ebb-9111-1aacf31b9db0",
   "metadata": {},
   "source": [
    "#### Model Training\n",
    "\n",
    "With about 90% of the dataset being non-diabetic and 10% of the dataset being diabetic, I've decided to use recall as the metric of value. Recall measures how many of the positive cases are actually correctly identified, and is calculated as (True Positive) / (True Positives + False Negatives), or: \n",
    "\n",
    "$$\n",
    "\\frac{TP}{TP + FN}\n",
    "$$\n",
    "\n",
    "With the optimal hyperparameters figured out, they can be used to determine the best precision, recall, and accuracy scores."
   ]
  },
  {
   "cell_type": "code",
   "execution_count": 35,
   "id": "721940cb-34f8-42f2-9b35-0856b9c8ee9b",
   "metadata": {},
   "outputs": [],
   "source": [
    "model_list = ['Logistic Regression', 'Decision Tree', 'Random Tree', 'SVM', 'KNN']\n",
    "train_score = []\n",
    "test_score = []\n",
    "fit_time = []\n",
    "prec_score = []\n",
    "rec_score = []"
   ]
  },
  {
   "cell_type": "markdown",
   "id": "4264e3b9-8685-4ddf-8d28-d0be8bdc6a17",
   "metadata": {},
   "source": [
    "**Logistic Regression Model**"
   ]
  },
  {
   "cell_type": "code",
   "execution_count": 36,
   "id": "e2f66a59-0083-4080-8a0b-b3ba4f44d556",
   "metadata": {},
   "outputs": [
    {
     "name": "stdout",
     "output_type": "stream",
     "text": [
      "Precision Score: 0.8823024054982818\n",
      "Recall Score: 0.6012880562060889\n",
      "Accuracy Score: 0.9591\n",
      "Logistic Regression Train Score: 0.9608125\n",
      "Logistic Regression Test Score: 0.9591\n",
      "Fit Time: 0.4795961380004883\n"
     ]
    }
   ],
   "source": [
    "#Creating/Testing Logistic Regressgion Model\n",
    "start_time = time.time()\n",
    "pipeline = Pipeline([('scale', StandardScaler()),\n",
    "                 ('lgr', LogisticRegression(max_iter=1000, \n",
    "                                            C = 0.01, penalty = 'l1', solver = 'liblinear'))]).fit(X_train, y_train)\n",
    "end_time = time.time()\n",
    "elapsed_time = end_time - start_time\n",
    "y_pred = pipeline.predict(X_test)\n",
    "print(\"Precision Score:\", precision_score(y_test, y_pred))\n",
    "print(\"Recall Score:\", recall_score(y_test, y_pred))\n",
    "print(\"Accuracy Score:\", accuracy_score(y_test, y_pred))\n",
    "print(\"Logistic Regression Train Score:\", pipeline.score(X_train, y_train))\n",
    "print(\"Logistic Regression Test Score:\", pipeline.score(X_test, y_test))\n",
    "print(\"Fit Time:\", elapsed_time)\n",
    "train_score.append(pipeline.score(X_train, y_train))\n",
    "test_score.append(pipeline.score(X_train, y_train))\n",
    "fit_time.append(elapsed_time)\n",
    "prec_score.append(precision_score(y_test, y_pred))\n",
    "rec_score.append(recall_score(y_test, y_pred))"
   ]
  },
  {
   "cell_type": "markdown",
   "id": "f4b8740f-aff1-42d0-8824-09e1d5af77fb",
   "metadata": {},
   "source": [
    "**Decision Tree Classifier Model**"
   ]
  },
  {
   "cell_type": "code",
   "execution_count": 37,
   "id": "f7b38b87-dc71-4a91-a1ae-f8253f776abd",
   "metadata": {},
   "outputs": [
    {
     "name": "stdout",
     "output_type": "stream",
     "text": [
      "Precision Score:  1.0\n",
      "Recall Score:  0.6738875878220141\n",
      "Accuracy Score:  0.97215\n",
      "Decision Tree Train Score: 0.9718\n",
      "Decision Tree Test Score: 0.97215\n",
      "Fit Time: 0.06598806381225586\n"
     ]
    }
   ],
   "source": [
    "#Creating/Testing DecisionTreeClassifier Model\n",
    "start_time = time.time()\n",
    "pipeline = Pipeline([('scale', StandardScaler()),\n",
    "                       ('dtc', DecisionTreeClassifier(criterion = 'gini', max_depth = 2, \n",
    "                                    min_samples_split = 2, min_samples_leaf = 1))]).fit(X_train, y_train)\n",
    "end_time = time.time()\n",
    "elapsed_time = end_time - start_time\n",
    "y_pred = pipeline.predict(X_test)\n",
    "print(\"Precision Score: \", precision_score(y_test, y_pred))\n",
    "print(\"Recall Score: \", recall_score(y_test, y_pred))\n",
    "print(\"Accuracy Score: \", accuracy_score(y_test, y_pred))\n",
    "print(\"Decision Tree Train Score:\", pipeline.score(X_train, y_train))\n",
    "print(\"Decision Tree Test Score:\", pipeline.score(X_test, y_test))\n",
    "print(\"Fit Time:\", elapsed_time)\n",
    "train_score.append(pipeline.score(X_train, y_train))\n",
    "test_score.append(pipeline.score(X_train, y_train))\n",
    "fit_time.append(elapsed_time)\n",
    "prec_score.append(precision_score(y_test, y_pred))\n",
    "rec_score.append(recall_score(y_test, y_pred))"
   ]
  },
  {
   "cell_type": "markdown",
   "id": "6d11e7df-b38c-411e-bd21-e21033d3e971",
   "metadata": {},
   "source": [
    "**Random Forest Classifier Model**"
   ]
  },
  {
   "cell_type": "code",
   "execution_count": 38,
   "id": "4305204a-e1ae-4197-b2d4-197a314e1d46",
   "metadata": {},
   "outputs": [
    {
     "name": "stdout",
     "output_type": "stream",
     "text": [
      "Precision Score:  0.9965606190885641\n",
      "Recall Score:  0.6785714285714286\n",
      "Accuracy Score:  0.97235\n",
      "Decision Tree Train Score: 0.9738375\n",
      "Decision Tree Test Score: 0.97235\n",
      "Fit Time: 8.388327836990356\n"
     ]
    }
   ],
   "source": [
    "#Creating/Testing RandomForestClassifier Model\n",
    "start_time = time.time()\n",
    "pipeline = Pipeline([('scale', StandardScaler()),\n",
    "                       ('rfc', RandomForestClassifier(bootstrap = True, max_depth=None, \n",
    "                                                   min_samples_leaf=4, min_samples_split = 10, n_estimators=200))]).fit(X_train, y_train)\n",
    "end_time = time.time()\n",
    "elapsed_time = end_time - start_time\n",
    "y_pred = pipeline.predict(X_test)\n",
    "print(\"Precision Score: \", precision_score(y_test, y_pred))\n",
    "print(\"Recall Score: \", recall_score(y_test, y_pred))\n",
    "print(\"Accuracy Score: \", accuracy_score(y_test, y_pred))\n",
    "print(\"Decision Tree Train Score:\", pipeline.score(X_train, y_train))\n",
    "print(\"Decision Tree Test Score:\", pipeline.score(X_test, y_test))\n",
    "print(\"Fit Time:\", elapsed_time)\n",
    "train_score.append(pipeline.score(X_train, y_train))\n",
    "test_score.append(pipeline.score(X_train, y_train))\n",
    "fit_time.append(elapsed_time)\n",
    "prec_score.append(precision_score(y_test, y_pred))\n",
    "rec_score.append(recall_score(y_test, y_pred))"
   ]
  },
  {
   "cell_type": "markdown",
   "id": "4ce04666-a07b-4ffa-b4b9-4697fc07386f",
   "metadata": {},
   "source": [
    "**SVC Model**"
   ]
  },
  {
   "cell_type": "code",
   "execution_count": 39,
   "id": "393e46be-8a9f-4929-8d1e-c5a5a09407b6",
   "metadata": {},
   "outputs": [
    {
     "name": "stdout",
     "output_type": "stream",
     "text": [
      "Precision Score:  0.9737609329446064\n",
      "Recall Score:  0.5866510538641686\n",
      "Accuracy Score:  0.96335\n",
      "SVC Train Score: 0.967\n",
      "SVC Test Score: 0.96335\n",
      "Fit Time: 69.14727759361267\n"
     ]
    }
   ],
   "source": [
    "#Creating/Testing SVC Model\n",
    "start_time = time.time()\n",
    "pipeline = Pipeline([('scale', StandardScaler()),\n",
    "                     ('svm', SVC(C = 10, kernel='rbf', gamma = 0.1))]).fit(X_train, y_train)\n",
    "end_time = time.time()\n",
    "elapsed_time = end_time - start_time\n",
    "y_pred = pipeline.predict(X_test)\n",
    "print(\"Precision Score: \", precision_score(y_test, y_pred))\n",
    "print(\"Recall Score: \", recall_score(y_test, y_pred))\n",
    "print(\"Accuracy Score: \", accuracy_score(y_test, y_pred))\n",
    "print(\"SVC Train Score:\", pipeline.score(X_train, y_train))\n",
    "print(\"SVC Test Score:\",pipeline.score(X_test, y_test))\n",
    "print(\"Fit Time:\", elapsed_time)\n",
    "train_score.append(pipeline.score(X_train, y_train))\n",
    "test_score.append(pipeline.score(X_train, y_train))\n",
    "fit_time.append(elapsed_time)\n",
    "prec_score.append(precision_score(y_test, y_pred))\n",
    "rec_score.append(recall_score(y_test, y_pred))"
   ]
  },
  {
   "cell_type": "markdown",
   "id": "531c3d05-859f-4586-bb4f-f057330292b3",
   "metadata": {},
   "source": [
    "**KNearestNeighbor Model**"
   ]
  },
  {
   "cell_type": "code",
   "execution_count": 40,
   "id": "bd1835f6-9f8a-4b96-be87-101c789ea642",
   "metadata": {},
   "outputs": [
    {
     "name": "stdout",
     "output_type": "stream",
     "text": [
      "Precision Score:  0.9362511893434824\n",
      "Recall Score:  0.5761124121779859\n",
      "Accuracy Score:  0.96045\n",
      "KNN Train Score: 0.9655875\n",
      "KNN Test Score: 0.96045\n",
      "Fit Time: 0.3057706356048584\n"
     ]
    }
   ],
   "source": [
    "#Creating/Testing KNN Model\n",
    "start_time = time.time()\n",
    "knn_pipe = Pipeline([('scale', StandardScaler()), \n",
    "                      ('model', KNeighborsClassifier(n_neighbors=9, leaf_size = 10, \n",
    "                                                     p = 2, weights = 'uniform'))]).fit(X_train, y_train)\n",
    "end_time = time.time()\n",
    "elapsed_time = end_time - start_time\n",
    "y_pred = knn_pipe.predict(X_test)\n",
    "print(\"Precision Score: \", precision_score(y_test, y_pred))\n",
    "print(\"Recall Score: \", recall_score(y_test, y_pred))\n",
    "print(\"Accuracy Score: \", accuracy_score(y_test, y_pred))\n",
    "print(\"KNN Train Score:\", knn_pipe.score(X_train, y_train))\n",
    "print(\"KNN Test Score:\",knn_pipe.score(X_test, y_test))\n",
    "print(\"Fit Time:\", elapsed_time)\n",
    "train_score.append(knn_pipe.score(X_train, y_train))\n",
    "test_score.append(knn_pipe.score(X_train, y_train))\n",
    "fit_time.append(elapsed_time)\n",
    "prec_score.append(precision_score(y_test, y_pred))\n",
    "rec_score.append(recall_score(y_test, y_pred))"
   ]
  },
  {
   "cell_type": "markdown",
   "id": "396d2cbb-1065-46f6-a6ca-4f6522a2d7ad",
   "metadata": {},
   "source": [
    "#### Model Evaluation and Summary of Results\n",
    "\n",
    "Best Accuracy: **Random Tree Classifier** with a score of 0.974\n",
    "\n",
    "Best Precision: **Decision Tree Classifier** with a score of 1\n",
    "\n",
    "Best Recall: **Random Tree Classifier** with a score of 0.679"
   ]
  },
  {
   "cell_type": "code",
   "execution_count": 41,
   "id": "fecce432-c4e7-47ca-a1b1-87100616e393",
   "metadata": {},
   "outputs": [
    {
     "data": {
      "text/html": [
       "<div>\n",
       "<style scoped>\n",
       "    .dataframe tbody tr th:only-of-type {\n",
       "        vertical-align: middle;\n",
       "    }\n",
       "\n",
       "    .dataframe tbody tr th {\n",
       "        vertical-align: top;\n",
       "    }\n",
       "\n",
       "    .dataframe thead th {\n",
       "        text-align: right;\n",
       "    }\n",
       "</style>\n",
       "<table border=\"1\" class=\"dataframe\">\n",
       "  <thead>\n",
       "    <tr style=\"text-align: right;\">\n",
       "      <th></th>\n",
       "      <th>Train Time</th>\n",
       "      <th>Train Accuracy</th>\n",
       "      <th>Test Accuracy</th>\n",
       "      <th>Precision Score</th>\n",
       "      <th>Recall Score</th>\n",
       "    </tr>\n",
       "    <tr>\n",
       "      <th>Model</th>\n",
       "      <th></th>\n",
       "      <th></th>\n",
       "      <th></th>\n",
       "      <th></th>\n",
       "      <th></th>\n",
       "    </tr>\n",
       "  </thead>\n",
       "  <tbody>\n",
       "    <tr>\n",
       "      <th>Logistic Regression</th>\n",
       "      <td>0.479596</td>\n",
       "      <td>0.960812</td>\n",
       "      <td>0.960812</td>\n",
       "      <td>0.882302</td>\n",
       "      <td>0.601288</td>\n",
       "    </tr>\n",
       "    <tr>\n",
       "      <th>Decision Tree</th>\n",
       "      <td>0.065988</td>\n",
       "      <td>0.971800</td>\n",
       "      <td>0.971800</td>\n",
       "      <td>1.000000</td>\n",
       "      <td>0.673888</td>\n",
       "    </tr>\n",
       "    <tr>\n",
       "      <th>Random Tree</th>\n",
       "      <td>8.388328</td>\n",
       "      <td>0.973838</td>\n",
       "      <td>0.973838</td>\n",
       "      <td>0.996561</td>\n",
       "      <td>0.678571</td>\n",
       "    </tr>\n",
       "    <tr>\n",
       "      <th>SVM</th>\n",
       "      <td>69.147278</td>\n",
       "      <td>0.967000</td>\n",
       "      <td>0.967000</td>\n",
       "      <td>0.973761</td>\n",
       "      <td>0.586651</td>\n",
       "    </tr>\n",
       "    <tr>\n",
       "      <th>KNN</th>\n",
       "      <td>0.305771</td>\n",
       "      <td>0.965588</td>\n",
       "      <td>0.965588</td>\n",
       "      <td>0.936251</td>\n",
       "      <td>0.576112</td>\n",
       "    </tr>\n",
       "  </tbody>\n",
       "</table>\n",
       "</div>"
      ],
      "text/plain": [
       "                     Train Time  Train Accuracy  Test Accuracy  \\\n",
       "Model                                                            \n",
       "Logistic Regression    0.479596        0.960812       0.960812   \n",
       "Decision Tree          0.065988        0.971800       0.971800   \n",
       "Random Tree            8.388328        0.973838       0.973838   \n",
       "SVM                   69.147278        0.967000       0.967000   \n",
       "KNN                    0.305771        0.965588       0.965588   \n",
       "\n",
       "                     Precision Score  Recall Score  \n",
       "Model                                               \n",
       "Logistic Regression         0.882302      0.601288  \n",
       "Decision Tree               1.000000      0.673888  \n",
       "Random Tree                 0.996561      0.678571  \n",
       "SVM                         0.973761      0.586651  \n",
       "KNN                         0.936251      0.576112  "
      ]
     },
     "execution_count": 41,
     "metadata": {},
     "output_type": "execute_result"
    }
   ],
   "source": [
    "res_dict = {'Model': model_list,\n",
    "           'Train Time': fit_time,\n",
    "           'Train Accuracy': train_score,\n",
    "           'Test Accuracy': test_score,\n",
    "           'Precision Score': prec_score,\n",
    "           'Recall Score': rec_score,}\n",
    "results_df = pd.DataFrame(res_dict).set_index('Model')\n",
    "results_df"
   ]
  },
  {
   "cell_type": "code",
   "execution_count": 62,
   "id": "d6b36f0c-7ec3-4bde-84d3-c362b32f21a3",
   "metadata": {},
   "outputs": [
    {
     "data": {
      "image/png": "[encoded data removed]",
      "text/plain": [
       "<Figure size 1000x600 with 1 Axes>"
      ]
     },
     "metadata": {},
     "output_type": "display_data"
    }
   ],
   "source": [
    "#Display Training Time\n",
    "data = pd.DataFrame({\n",
    "    'fit_time': fit_time,\n",
    "    'model': model_list\n",
    "})\n",
    "\n",
    "fig = plt.subplots(figsize=(10, 6))\n",
    "ax = sns.barplot(x='model', y='fit_time', data=data, width = 0.5)\n",
    "ax.bar_label(ax.containers[0])\n",
    "\n",
    "# Add labels and title\n",
    "plt.xlabel(\"Models\")\n",
    "plt.ylabel(\"Fit Time (Seconds)\")\n",
    "plt.title(\"Fit Time for each Model\")\n",
    "\n",
    "# Display the plot\n",
    "plt.show()"
   ]
  },
  {
   "cell_type": "code",
   "execution_count": 64,
   "id": "6a6e72e8-088a-468d-88bb-b70f8e2a3ad6",
   "metadata": {},
   "outputs": [
    {
     "data": {
      "image/png": "[encoded data removed]",
      "text/plain": [
       "<Figure size 1000x600 with 1 Axes>"
      ]
     },
     "metadata": {},
     "output_type": "display_data"
    }
   ],
   "source": [
    "#Display Accuracy(Test) Score\n",
    "data = pd.DataFrame({\n",
    "    'test_score': test_score,\n",
    "    'model': model_list\n",
    "})\n",
    "\n",
    "fig = plt.subplots(figsize=(10, 6))\n",
    "ax = sns.barplot(x='model', y='test_score', data=data, width = 0.5)\n",
    "ax.bar_label(ax.containers[0])\n",
    "\n",
    "# Add labels and title\n",
    "plt.xlabel(\"Models\")\n",
    "plt.ylabel(\"Accuracy Score\")\n",
    "plt.title(\"Accuracy Score for each Model\")\n",
    "\n",
    "# Display the plot\n",
    "plt.show()"
   ]
  },
  {
   "cell_type": "code",
   "execution_count": 65,
   "id": "0949bcfe-0164-4ac1-a762-2388ca4f93fe",
   "metadata": {},
   "outputs": [
    {
     "data": {
      "image/png": "[encoded data removed]",
      "text/plain": [
       "<Figure size 1000x600 with 1 Axes>"
      ]
     },
     "metadata": {},
     "output_type": "display_data"
    }
   ],
   "source": [
    "#Display Precision Score\n",
    "data = pd.DataFrame({\n",
    "    'precision_score': prec_score,\n",
    "    'model': model_list\n",
    "})\n",
    "\n",
    "fig = plt.subplots(figsize=(10, 6))\n",
    "ax = sns.barplot(x='model', y='precision_score', data=data, width = 0.5)\n",
    "ax.bar_label(ax.containers[0])\n",
    "\n",
    "# Add labels and title\n",
    "plt.xlabel(\"Models\")\n",
    "plt.ylabel(\"Precision Score\")\n",
    "plt.title(\"Precision Score for each Model\")\n",
    "\n",
    "# Display the plot\n",
    "plt.show()"
   ]
  },
  {
   "cell_type": "code",
   "execution_count": 66,
   "id": "673e9a97-17aa-4db9-a393-5f0f38e36b00",
   "metadata": {},
   "outputs": [
    {
     "data": {
      "image/png": "[encoded data removed]",
      "text/plain": [
       "<Figure size 1000x600 with 1 Axes>"
      ]
     },
     "metadata": {},
     "output_type": "display_data"
    }
   ],
   "source": [
    "#Display Precision Score\n",
    "data = pd.DataFrame({\n",
    "    'recall_score': rec_score,\n",
    "    'model': model_list\n",
    "})\n",
    "\n",
    "fig = plt.subplots(figsize=(10, 6))\n",
    "ax = sns.barplot(x='model', y='recall_score', data=data, width = 0.5)\n",
    "ax.bar_label(ax.containers[0])\n",
    "\n",
    "# Add labels and title\n",
    "plt.xlabel(\"Models\")\n",
    "plt.ylabel(\"Recall Score\")\n",
    "plt.title(\"Recall Score for each Model\")\n",
    "\n",
    "# Display the plot\n",
    "plt.show()"
   ]
  },
  {
   "cell_type": "markdown",
   "id": "f714cd35-1d64-468c-be9e-5a9e4b5681f0",
   "metadata": {},
   "source": [
    "#### Selecting the Best Model\n",
    "\n",
    "After reviewing the precision, accuracy, and recall scores of each model, it appears that the Random Tree Classifier model was the overall best. It had the highest accuracy and recall score while only falling second in terms of precision."
   ]
  }
 ],
 "metadata": {
  "kernelspec": {
   "display_name": "Python 3 (ipykernel)",
   "language": "python",
   "name": "python3"
  },
  "language_info": {
   "codemirror_mode": {
    "name": "ipython",
    "version": 3
   },
   "file_extension": ".py",
   "mimetype": "text/x-python",
   "name": "python",
   "nbconvert_exporter": "python",
   "pygments_lexer": "ipython3",
   "version": "3.11.7"
  }
 },
 "nbformat": 4,
 "nbformat_minor": 5
}
